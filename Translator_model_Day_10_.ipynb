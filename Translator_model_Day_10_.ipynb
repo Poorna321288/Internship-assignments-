{
  "nbformat": 4,
  "nbformat_minor": 0,
  "metadata": {
    "colab": {
      "provenance": [],
      "gpuType": "T4",
      "authorship_tag": "ABX9TyO5kocW2+VlJrVQomqwkHsw",
      "include_colab_link": true
    },
    "kernelspec": {
      "name": "python3",
      "display_name": "Python 3"
    },
    "language_info": {
      "name": "python"
    },
    "accelerator": "GPU"
  },
  "cells": [
    {
      "cell_type": "markdown",
      "metadata": {
        "id": "view-in-github",
        "colab_type": "text"
      },
      "source": [
        "<a href=\"https://colab.research.google.com/github/Poorna321288/Internship-assignments-/blob/main/Translator_model_Day_10_.ipynb\" target=\"_parent\"><img src=\"https://colab.research.google.com/assets/colab-badge.svg\" alt=\"Open In Colab\"/></a>"
      ]
    },
    {
      "cell_type": "code",
      "source": [
        "from transformers import AutoTokenizer, AutoModelForSeq2SeqLM\n",
        "\n",
        "# Load the NLLB model\n",
        "model_name = \"facebook/nllb-200-distilled-600M\"\n",
        "tokenizer = AutoTokenizer.from_pretrained(model_name)\n",
        "model = AutoModelForSeq2SeqLM.from_pretrained(model_name)\n",
        "\n",
        "# Language codes for NLLB (ISO 639-3 format)\n",
        "lang_codes = {\n",
        "    \"hi\": \"hin_Deva\",     # Hindi\n",
        "    \"kn\": \"kan_Knda\",     # Kannada\n",
        "    \"te\": \"tel_Telu\"      # Telugu\n",
        "}\n",
        "\n",
        "def translate_nllb(text, tgt_lang_code):\n",
        "    tokenizer.src_lang = \"eng_Latn\"\n",
        "    encoded = tokenizer(text, return_tensors=\"pt\")\n",
        "    # Use the correct way to get the token ID for the language code\n",
        "    # The NLLB tokenizer allows accessing the token ID by keying with the language code string\n",
        "    generated_tokens = model.generate(**encoded, forced_bos_token_id=tokenizer.convert_tokens_to_ids(tgt_lang_code))\n",
        "    return tokenizer.decode(generated_tokens[0], skip_special_tokens=True)\n",
        "\n",
        "# Example text\n",
        "text = \"Hello,good morning.\"\n",
        "\n",
        "# Translate to multiple languages\n",
        "for lang, code in lang_codes.items():\n",
        "    translated = translate_nllb(text, code)\n",
        "    print(f\"{lang.upper()}: {translated}\")"
      ],
      "metadata": {
        "colab": {
          "base_uri": "https://localhost:8080/"
        },
        "id": "sa-qJTC6-Ih_",
        "outputId": "dbf02500-6ece-4046-aee3-aa6d27596d6e"
      },
      "execution_count": null,
      "outputs": [
        {
          "output_type": "stream",
          "name": "stdout",
          "text": [
            "HI: हैलो, शुभ दोपहर.\n",
            "KN: ಹಲೋ, ಶುಭೋದಯ.\n",
            "TE: హలో, గుడ్ మార్నింగ్.\n"
          ]
        }
      ]
    }
  ]
}