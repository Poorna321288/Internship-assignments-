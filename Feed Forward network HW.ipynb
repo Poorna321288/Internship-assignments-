{
 "cells": [
  {
   "cell_type": "code",
   "execution_count": 2,
   "id": "604913dc-890b-4a03-b662-f8a1bcdd7851",
   "metadata": {},
   "outputs": [],
   "source": [
    "import numpy as np\n",
    "import matplotlib.pyplot as plt\n",
    "%matplotlib inline"
   ]
  },
  {
   "cell_type": "code",
   "execution_count": 4,
   "id": "0d1133f3-a540-4d6e-9502-f4d5298afb4b",
   "metadata": {},
   "outputs": [],
   "source": [
    "def sigmoid(x):\n",
    "    return 1.0 / (1.0 + np.exp(-x))"
   ]
  },
  {
   "cell_type": "code",
   "execution_count": 6,
   "id": "8b23508d-36d0-4a8a-bb06-ce8cf5d20b85",
   "metadata": {},
   "outputs": [
    {
     "data": {
      "text/plain": [
       "(-0.5, 1.5)"
      ]
     },
     "execution_count": 6,
     "metadata": {},
     "output_type": "execute_result"
    }
   ],
   "source": [
    "vals = np.linspace(-10, 10, num=100, dtype=np.float32)\n",
    "activation = sigmoid(vals)\n",
    "fig = plt.figure(figsize=(12, 6))\n",
    "plt.plot(vals, activation)\n",
    "plt.grid(True, which='both')\n",
    "plt.axhline(y=0, color='k')\n",
    "plt.axvline(x=0, color='k')\n",
    "plt.yticks()\n",
    "plt.ylim([-0.5, 1.5])"
   ]
  },
  {
   "cell_type": "code",
   "execution_count": 8,
   "id": "95b4f9ab-ac88-41a8-a0db-e3fc004a6cf6",
   "metadata": {},
   "outputs": [],
   "source": [
    "def logic_gate(w1, w2, b):\n",
    "    # Helper to create logic gate functions\n",
    "    # Plug in values for weight_a, weight_b, and bias\n",
    "    return lambda x1, x2: sigmoid(w1 * x1 + w2 * x2 + b)\n",
    "\n",
    "def test(gate):\n",
    "    # Helper function to test out our weight functions.\n",
    "    for a, b in (0, 0), (0, 1), (1, 0), (1, 1):\n",
    "        print(\"{}, {}: {}\".format(a, b, np.round(gate(a, b))))\n"
   ]
  },
  {
   "cell_type": "code",
   "execution_count": 10,
   "id": "91228504-37e3-4a61-a1c8-2c3f98d5317b",
   "metadata": {},
   "outputs": [
    {
     "name": "stdout",
     "output_type": "stream",
     "text": [
      "0, 0: 0.0\n",
      "0, 1: 1.0\n",
      "1, 0: 1.0\n",
      "1, 1: 1.0\n",
      "0, 0: 0.0\n",
      "0, 1: 0.0\n",
      "1, 0: 0.0\n",
      "1, 1: 1.0\n"
     ]
    }
   ],
   "source": [
    "or_gate = logic_gate(20, 20, -10)\n",
    "test(or_gate)\n",
    "\n",
    "and_gate = logic_gate(15,15, -20)\n",
    "test(and_gate)\n",
    "\n"
   ]
  },
  {
   "cell_type": "code",
   "execution_count": 12,
   "id": "4ca60e19-13e9-4513-a517-58de58af3a52",
   "metadata": {},
   "outputs": [
    {
     "name": "stdout",
     "output_type": "stream",
     "text": [
      "0, 0: 0.0\n",
      "0, 1: 0.0\n",
      "1, 0: 0.0\n",
      "1, 1: 0.0\n",
      "0, 0: 0.0\n",
      "0, 1: 0.0\n",
      "1, 0: 0.0\n",
      "1, 1: 0.0\n"
     ]
    }
   ],
   "source": [
    "nor_gate = logic_gate(0, 0, 0)\n",
    "test(nor_gate)\n",
    "\n",
    "nand_gate = logic_gate(0, 0, 0)\n",
    "test(nand_gate)\n"
   ]
  },
  {
   "cell_type": "code",
   "execution_count": 14,
   "id": "2c326b42-2a4b-45a3-8534-560645c55ed9",
   "metadata": {},
   "outputs": [
    {
     "name": "stdout",
     "output_type": "stream",
     "text": [
      "0, 0: 0.0\n",
      "0, 1: 1.0\n",
      "1, 0: 1.0\n",
      "1, 1: 1.0\n"
     ]
    }
   ],
   "source": [
    "def xor_gate(a, b):\n",
    "    c = or_gate(a, b)\n",
    "    d = nand_gate(a, b)\n",
    "    return and_gate(c, d)\n",
    "test(xor_gate)\n",
    "\n"
   ]
  },
  {
   "cell_type": "code",
   "execution_count": 16,
   "id": "eee89e9d-848d-4054-b78f-fcfea66f02f2",
   "metadata": {},
   "outputs": [],
   "source": [
    "W_1 = np.random.randn(4, 3)\n",
    "W_2 = np.random.randn(5, 4)\n",
    "W_3 = np.random.randn(3, 5)\n"
   ]
  },
  {
   "cell_type": "code",
   "execution_count": 18,
   "id": "709480a8-2480-4428-a224-dee1506a037c",
   "metadata": {},
   "outputs": [],
   "source": [
    "# Single input vector (3 features)\n",
    "x_in = np.array([0.5, 0.3, 0.2])\n",
    "\n",
    "# 7 input samples (each row is a sample of size 3)\n",
    "x_mat_in = np.random.rand(7, 3)\n"
   ]
  },
  {
   "cell_type": "code",
   "execution_count": 20,
   "id": "fa277363-70a5-47fb-a000-395a21a9976a",
   "metadata": {},
   "outputs": [],
   "source": [
    "def soft_max_vec(x):\n",
    "    \"\"\"Softmax for single vector\"\"\"\n",
    "    e_x = np.exp(x - np.max(x))  # numerical stability\n",
    "    return e_x / np.sum(e_x)\n",
    "\n",
    "def soft_max_mat(x):\n",
    "    \"\"\"Row-wise softmax for matrix\"\"\"\n",
    "    e_x = np.exp(x - np.max(x, axis=1, keepdims=True))  # numerical stability\n",
    "    return e_x / np.sum(e_x, axis=1, keepdims=True)\n"
   ]
  },
  {
   "cell_type": "code",
   "execution_count": 22,
   "id": "48836de1-fa6e-4fab-b54e-7e93ee794543",
   "metadata": {},
   "outputs": [],
   "source": [
    "def forward_pass_single(x, W_1, W_2, W_3, return_intermediates=False):\n",
    "    z1 = np.dot(W_1, x)\n",
    "    a1 = sigmoid(z1)\n",
    "\n",
    "    z2 = np.dot(W_2, a1)\n",
    "    a2 = sigmoid(z2)\n",
    "\n",
    "    z3 = np.dot(W_3, a2)\n",
    "    a3 = soft_max_vec(z3)\n",
    "\n",
    "    if return_intermediates:\n",
    "        return z1, a1, z2, a2, z3, a3\n",
    "    return a3"
   ]
  },
  {
   "cell_type": "code",
   "execution_count": 24,
   "id": "74b3d191-d5a1-45d8-85a6-b8a3a1f1a183",
   "metadata": {},
   "outputs": [],
   "source": [
    "\n",
    "def forward_pass_batch(X, W_1, W_2, W_3):\n",
    "    z1 = X @ W_1.T\n",
    "    a1 = sigmoid(z1)\n",
    "\n",
    "    z2 = a1 @ W_2.T\n",
    "    a2 = sigmoid(z2)\n",
    "\n",
    "    z3 = a2 @ W_3.T\n",
    "    a3 = soft_max_mat(z3)\n",
    "\n",
    "    return a3"
   ]
  },
  {
   "cell_type": "code",
   "execution_count": 26,
   "id": "a48a864e-0577-4a6b-9deb-d401b7c49395",
   "metadata": {},
   "outputs": [
    {
     "name": "stdout",
     "output_type": "stream",
     "text": [
      "\n",
      "----- Single Input Output with Intermediates -----\n",
      "Layer 1 input (z1): [-0.6271461   0.5756988   0.6017554  -0.01806911]\n",
      "Layer 1 output (a1): [0.34815793 0.6400771  0.64605781 0.49548285]\n",
      "Layer 2 input (z2): [0.54230081 0.63149612 1.16590677 0.40685107 0.09690433]\n",
      "Layer 2 output (a2): [0.63234748 0.65282863 0.76240435 0.60033258 0.52420714]\n",
      "Output layer input (z3): [-2.50392657  1.02238436 -1.76768329]\n",
      "Output softmax (a3): [0.02696407 0.91673289 0.05630304]\n",
      "\n",
      "----- Batch Input Output -----\n",
      "[[0.02713717 0.92076052 0.05210231]\n",
      " [0.03379583 0.91678424 0.04941993]\n",
      " [0.03367016 0.9165995  0.04973035]\n",
      " [0.03264368 0.9098424  0.05751391]\n",
      " [0.02703653 0.91622278 0.05674069]\n",
      " [0.03066921 0.92001255 0.04931824]\n",
      " [0.03078148 0.91446316 0.05475535]]\n"
     ]
    }
   ],
   "source": [
    "print(\"\\n----- Single Input Output with Intermediates -----\")\n",
    "z1, a1, z2, a2, z3, a3 = forward_pass_single(x_in, W_1, W_2, W_3, return_intermediates=True)\n",
    "print(\"Layer 1 input (z1):\", z1)\n",
    "print(\"Layer 1 output (a1):\", a1)\n",
    "print(\"Layer 2 input (z2):\", z2)\n",
    "print(\"Layer 2 output (a2):\", a2)\n",
    "print(\"Output layer input (z3):\", z3)\n",
    "print(\"Output softmax (a3):\", a3)\n",
    "\n",
    "print(\"\\n----- Batch Input Output -----\")\n",
    "print(forward_pass_batch(x_mat_in, W_1, W_2, W_3))"
   ]
  }
 ],
 "metadata": {
  "kernelspec": {
   "display_name": "Python [conda env:base] *",
   "language": "python",
   "name": "conda-base-py"
  },
  "language_info": {
   "codemirror_mode": {
    "name": "ipython",
    "version": 3
   },
   "file_extension": ".py",
   "mimetype": "text/x-python",
   "name": "python",
   "nbconvert_exporter": "python",
   "pygments_lexer": "ipython3",
   "version": "3.12.7"
  }
 },
 "nbformat": 4,
 "nbformat_minor": 5
}
