{
  "nbformat": 4,
  "nbformat_minor": 0,
  "metadata": {
    "colab": {
      "provenance": [],
      "authorship_tag": "ABX9TyOrgT6Tkj04sNKbEEW1OpFO",
      "include_colab_link": true
    },
    "kernelspec": {
      "name": "python3",
      "display_name": "Python 3"
    },
    "language_info": {
      "name": "python"
    }
  },
  "cells": [
    {
      "cell_type": "markdown",
      "metadata": {
        "id": "view-in-github",
        "colab_type": "text"
      },
      "source": [
        "<a href=\"https://colab.research.google.com/github/Poorna321288/Internship-assignments-/blob/main/MLP_Day_3_HW.ipynb\" target=\"_parent\"><img src=\"https://colab.research.google.com/assets/colab-badge.svg\" alt=\"Open In Colab\"/></a>"
      ]
    },
    {
      "cell_type": "code",
      "source": [
        "import numpy as np\n",
        "import matplotlib.pyplot as plt\n"
      ],
      "metadata": {
        "id": "_xGl4bcAejUc"
      },
      "execution_count": null,
      "outputs": []
    },
    {
      "cell_type": "code",
      "source": [
        "# Input features\n",
        "X = np.array([[0,0], [0,1], [1,0], [1,1]])\n",
        "\n",
        "# Target labels\n",
        "y = np.array([[0], [1], [1], [0]])\n"
      ],
      "metadata": {
        "id": "BCBmvxREeldR"
      },
      "execution_count": null,
      "outputs": []
    },
    {
      "cell_type": "code",
      "source": [
        "# Sigmoid activation function\n",
        "def sigmoid(x):\n",
        "    return 1 / (1 + np.exp(-x))\n",
        "\n",
        "# Derivative of sigmoid for backpropagation\n",
        "def sigmoid_derivative(x):\n",
        "    return x * (1 - x)\n"
      ],
      "metadata": {
        "id": "276ftUm0evsf"
      },
      "execution_count": null,
      "outputs": []
    },
    {
      "cell_type": "code",
      "source": [
        "class MLP:\n",
        "    def __init__(self, input_size, hidden_size, output_size):\n",
        "        # Initialize weights and biases\n",
        "        self.W1 = np.random.randn(input_size, hidden_size)\n",
        "        self.b1 = np.zeros((1, hidden_size))\n",
        "        self.W2 = np.random.randn(hidden_size, output_size)\n",
        "        self.b2 = np.zeros((1, output_size))\n",
        "\n",
        "    def forward(self, X):\n",
        "        # Hidden layer\n",
        "        self.z1 = np.dot(X, self.W1) + self.b1\n",
        "        self.a1 = sigmoid(self.z1)\n",
        "        # Output layer\n",
        "        self.z2 = np.dot(self.a1, self.W2) + self.b2\n",
        "        self.a2 = sigmoid(self.z2)\n",
        "        return self.a2\n",
        "\n",
        "    def backward(self, X, y, output, lr):\n",
        "        # Output error\n",
        "        error = output - y\n",
        "        d_output = error * sigmoid_derivative(output)\n",
        "\n",
        "        # Hidden layer error\n",
        "        error_hidden = d_output.dot(self.W2.T)\n",
        "        d_hidden = error_hidden * sigmoid_derivative(self.a1)\n",
        "\n",
        "        # Update weights and biases\n",
        "        self.W2 -= self.a1.T.dot(d_output) * lr\n",
        "        self.b2 -= np.sum(d_output, axis=0, keepdims=True) * lr\n",
        "        self.W1 -= X.T.dot(d_hidden) * lr\n",
        "        self.b1 -= np.sum(d_hidden, axis=0, keepdims=True) * lr\n",
        "\n",
        "    def train(self, X, y, epochs=10000, lr=0.1):\n",
        "        for epoch in range(epochs):\n",
        "            output = self.forward(X)\n",
        "            self.backward(X, y, output, lr)\n",
        "            if epoch % 1000 == 0:\n",
        "                loss = np.mean((output - y) ** 2)\n",
        "                print(f\"Epoch {epoch}, Loss: {loss:.4f}\")\n"
      ],
      "metadata": {
        "id": "SR278MCye0KO"
      },
      "execution_count": null,
      "outputs": []
    },
    {
      "cell_type": "code",
      "source": [
        "# Initialize the model\n",
        "mlp = MLP(input_size=2, hidden_size=4, output_size=1)\n",
        "\n",
        "# Train it\n",
        "mlp.train(X, y, epochs=10000, lr=0.1)\n"
      ],
      "metadata": {
        "colab": {
          "base_uri": "https://localhost:8080/"
        },
        "id": "7m5RtBjfe5Lw",
        "outputId": "01771d39-88de-4f7c-9bc0-62b5314a8530"
      },
      "execution_count": null,
      "outputs": [
        {
          "output_type": "stream",
          "name": "stdout",
          "text": [
            "Epoch 0, Loss: 0.4195\n",
            "Epoch 1000, Loss: 0.2302\n",
            "Epoch 2000, Loss: 0.1700\n",
            "Epoch 3000, Loss: 0.0812\n",
            "Epoch 4000, Loss: 0.0209\n",
            "Epoch 5000, Loss: 0.0095\n",
            "Epoch 6000, Loss: 0.0057\n",
            "Epoch 7000, Loss: 0.0039\n",
            "Epoch 8000, Loss: 0.0029\n",
            "Epoch 9000, Loss: 0.0023\n"
          ]
        }
      ]
    },
    {
      "cell_type": "code",
      "source": [
        "# Get predictions\n",
        "preds = mlp.forward(X)\n",
        "print(\"Predictions:\\n\", np.round(preds))\n"
      ],
      "metadata": {
        "colab": {
          "base_uri": "https://localhost:8080/"
        },
        "id": "SX7uWPc1e96u",
        "outputId": "9115ed6a-524f-4bc2-ca26-de1c9f029fea"
      },
      "execution_count": null,
      "outputs": [
        {
          "output_type": "stream",
          "name": "stdout",
          "text": [
            "Predictions:\n",
            " [[0.]\n",
            " [1.]\n",
            " [1.]\n",
            " [0.]]\n"
          ]
        }
      ]
    },
    {
      "cell_type": "code",
      "source": [
        "def plot_decision_boundary(model, X, y):\n",
        "    x_min, x_max = X[:,0].min() - 0.1, X[:,0].max() + 0.1\n",
        "    y_min, y_max = X[:,1].min() - 0.1, X[:,1].max() + 0.1\n",
        "    h = 0.01\n",
        "    xx, yy = np.meshgrid(np.arange(x_min, x_max, h),\n",
        "                         np.arange(y_min, y_max, h))\n",
        "\n",
        "    grid = np.c_[xx.ravel(), yy.ravel()]\n",
        "    probs = model.forward(grid).reshape(xx.shape)\n",
        "\n",
        "    plt.contourf(xx, yy, probs > 0.5, cmap=plt.cm.coolwarm, alpha=0.6)\n",
        "    plt.scatter(X[:, 0], X[:, 1], c=y.ravel(), cmap=plt.cm.coolwarm, edgecolors='k')\n",
        "    plt.title(\"Decision Boundary - XOR with MLP\")\n",
        "    plt.show()\n",
        "\n",
        "plot_decision_boundary(mlp, X, y)\n"
      ],
      "metadata": {
        "colab": {
          "base_uri": "https://localhost:8080/",
          "height": 452
        },
        "id": "8_b_4VoffDr3",
        "outputId": "3d5a0f04-e574-4a4a-b3c5-940960b5b123"
      },
      "execution_count": null,
      "outputs": [
        {
          "output_type": "display_data",
          "data": {
            "text/plain": [
              "<Figure size 640x480 with 1 Axes>"
            ],
            "image/png": "[encoded data removed]"
          },
          "metadata": {}
        }
      ]
    }
  ]
}